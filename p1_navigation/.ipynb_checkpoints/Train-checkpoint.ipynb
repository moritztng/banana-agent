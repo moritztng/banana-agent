{
 "cells": [
  {
   "cell_type": "markdown",
   "metadata": {},
   "source": [
    "# Train The Agent\n",
    "---"
   ]
  },
  {
   "cell_type": "markdown",
   "metadata": {},
   "source": [
    "## Install Dependecies"
   ]
  },
  {
   "cell_type": "code",
   "execution_count": 1,
   "metadata": {},
   "outputs": [
    {
     "name": "stdout",
     "output_type": "stream",
     "text": [
      "\u001b[31mtensorflow 1.7.1 has requirement numpy>=1.13.3, but you'll have numpy 1.12.1 which is incompatible.\u001b[0m\r\n",
      "\u001b[31mipython 6.5.0 has requirement prompt-toolkit<2.0.0,>=1.0.15, but you'll have prompt-toolkit 2.0.10 which is incompatible.\u001b[0m\r\n"
     ]
    }
   ],
   "source": [
    "!pip -q install ./python"
   ]
  },
  {
   "cell_type": "markdown",
   "metadata": {},
   "source": [
    "## Import Libraries"
   ]
  },
  {
   "cell_type": "code",
   "execution_count": 2,
   "metadata": {},
   "outputs": [],
   "source": [
    "from unityagents import UnityEnvironment\n",
    "import numpy as np\n",
    "import torch \n",
    "import torch.nn as nn\n",
    "import pandas as pd\n",
    "import matplotlib.pyplot as plt"
   ]
  },
  {
   "cell_type": "markdown",
   "metadata": {},
   "source": [
    "## Create Environment And Brain"
   ]
  },
  {
   "cell_type": "code",
   "execution_count": 3,
   "metadata": {},
   "outputs": [
    {
     "name": "stderr",
     "output_type": "stream",
     "text": [
      "INFO:unityagents:\n",
      "'Academy' started successfully!\n",
      "Unity Academy name: Academy\n",
      "        Number of Brains: 1\n",
      "        Number of External Brains : 1\n",
      "        Lesson number : 0\n",
      "        Reset Parameters :\n",
      "\t\t\n",
      "Unity brain name: BananaBrain\n",
      "        Number of Visual Observations (per agent): 0\n",
      "        Vector Observation space type: continuous\n",
      "        Vector Observation space size (per agent): 37\n",
      "        Number of stacked Vector Observation: 1\n",
      "        Vector Action space type: discrete\n",
      "        Vector Action space size (per agent): 4\n",
      "        Vector Action descriptions: , , , \n"
     ]
    }
   ],
   "source": [
    "env = UnityEnvironment(file_name=\"/data/Banana_Linux_NoVis/Banana.x86_64\")\n",
    "brain_name = env.brain_names[0]\n",
    "brain = env.brains[brain_name]"
   ]
  },
  {
   "cell_type": "markdown",
   "metadata": {},
   "source": [
    "## Examine State And Action Spaces"
   ]
  },
  {
   "cell_type": "code",
   "execution_count": 4,
   "metadata": {},
   "outputs": [
    {
     "name": "stdout",
     "output_type": "stream",
     "text": [
      "Number of agents: 1\n",
      "Number of actions: 4\n",
      "States look like: [ 1.          0.          0.          0.          0.84408134  0.          0.\n",
      "  1.          0.          0.0748472   0.          1.          0.          0.\n",
      "  0.25755     1.          0.          0.          0.          0.74177343\n",
      "  0.          1.          0.          0.          0.25854847  0.          0.\n",
      "  1.          0.          0.09355672  0.          1.          0.          0.\n",
      "  0.31969345  0.          0.        ]\n",
      "States have length: 37\n"
     ]
    }
   ],
   "source": [
    "env_info = env.reset(train_mode=True)[brain_name]\n",
    "print('Number of agents:', len(env_info.agents))\n",
    "action_size = brain.vector_action_space_size\n",
    "print('Number of actions:', action_size)\n",
    "state = env_info.vector_observations[0]\n",
    "print('States look like:', state)\n",
    "state_size = len(state)\n",
    "print('States have length:', state_size)"
   ]
  },
  {
   "cell_type": "markdown",
   "metadata": {},
   "source": [
    "## Define Deep-Q-Network"
   ]
  },
  {
   "cell_type": "code",
   "execution_count": 5,
   "metadata": {},
   "outputs": [],
   "source": [
    "class QNetwork(nn.Module):\n",
    "    def __init__(self, state_size, action_size, seed, hidden_sizes=[64, 64], hidden_action_size=32, hidden_state_size=32):\n",
    "        super(QNetwork, self).__init__()\n",
    "        self.seed = torch.manual_seed(seed)\n",
    "        self.state_size = state_size\n",
    "        self.hidden_sizes = hidden_sizes\n",
    "        self.action_size = action_size\n",
    "        \n",
    "        self.fc_input = nn.Sequential(nn.Linear(state_size, hidden_sizes[0]), nn.ReLU())\n",
    "        \n",
    "        self.fc_hidden = None\n",
    "        if len(hidden_sizes)>1:\n",
    "            hidden_layers = []\n",
    "            for i in range(len(hidden_sizes)-1):\n",
    "                layer = nn.Sequential(nn.Linear(hidden_sizes[i], hidden_sizes[i+1]), nn.ReLU())\n",
    "                hidden_layers.append(layer)\n",
    "            self.fc_hidden = nn.Sequential(*hidden_layers)\n",
    "            \n",
    "        self.fc_state_value = nn.Sequential(nn.Linear(hidden_sizes[-1], hidden_state_size), \n",
    "                                             nn.ReLU(),\n",
    "                                             nn.Linear(hidden_state_size, 1)\n",
    "                                            )\n",
    "        self.fc_action_values = nn.Sequential(nn.Linear(hidden_sizes[-1], hidden_action_size), \n",
    "                                               nn.ReLU(),\n",
    "                                               nn.Linear(hidden_action_size, action_size)\n",
    "                                              )\n",
    "    def forward(self, state):\n",
    "        x = self.fc_input(state)\n",
    "        x = self.fc_hidden(x) if self.fc_hidden else x\n",
    "        state_value = self.fc_state_value(x)\n",
    "        action_values = self.fc_action_values(x)\n",
    "        return state_value+action_values"
   ]
  },
  {
   "cell_type": "markdown",
   "metadata": {},
   "source": [
    "## Set Hyperparameters"
   ]
  },
  {
   "cell_type": "code",
   "execution_count": 17,
   "metadata": {},
   "outputs": [],
   "source": [
    "seed = 42\n",
    "lr = 5e-4\n",
    "episodes = 500\n",
    "epsilon_start = 1\n",
    "eps_decay = 0.98\n",
    "eps_end = 0.01\n",
    "learn_every = 4\n",
    "batch_size = 64\n",
    "decay_rate = 0.99\n",
    "tau = 1e-3\n",
    "epochs = 1\n",
    "print_every = 100\n",
    "\n",
    "prioritized_replay = False\n",
    "e = 0.01\n",
    "a = 0.1\n",
    "b_start = 0\n",
    "b_delta = 0.003\n",
    "b_end = 1"
   ]
  },
  {
   "cell_type": "markdown",
   "metadata": {},
   "source": [
    "## Instantiate Networks, Loss Function, Optimizer And Replay Buffer"
   ]
  },
  {
   "cell_type": "code",
   "execution_count": 18,
   "metadata": {},
   "outputs": [],
   "source": [
    "device = 'cuda' if torch.cuda.is_available() else 'cpu'\n",
    "q_value = QNetwork(len(env_info.vector_observations[0]), brain.vector_action_space_size, seed).to(device)\n",
    "q_policy = QNetwork(len(env_info.vector_observations[0]), brain.vector_action_space_size, seed).to(device)\n",
    "criterion = nn.MSELoss()\n",
    "optimizer = torch.optim.Adam(q_value.parameters(), lr=lr)\n",
    "replay_buffer = pd.DataFrame(columns=[\"state\", \"action\", \"reward\", \"next_state\", \"done\"])"
   ]
  },
  {
   "cell_type": "markdown",
   "metadata": {},
   "source": [
    "## Define Epsilon-Greedy Policy Function"
   ]
  },
  {
   "cell_type": "code",
   "execution_count": 19,
   "metadata": {},
   "outputs": [],
   "source": [
    "def policy(action_values, epsilon, device):\n",
    "    _, idxs = action_values.max(1)\n",
    "    probs = torch.ones(action_values.shape).to(device) * epsilon/action_values.shape[1]\n",
    "    probs.scatter_(1, idxs.unsqueeze(0), probs.gather(1, idxs.unsqueeze(0))+1-epsilon)\n",
    "    return probs"
   ]
  },
  {
   "cell_type": "markdown",
   "metadata": {},
   "source": [
    "## Define Function For Prioritized Experience Replay"
   ]
  },
  {
   "cell_type": "code",
   "execution_count": 20,
   "metadata": {},
   "outputs": [],
   "source": [
    "def get_prioritized_distribution(replay_buffer, q_value, decay_rate, e, a, device):\n",
    "    states = torch.tensor(replay_buffer[\"state\"].tolist()).to(device)\n",
    "    actions = torch.tensor(replay_buffer[\"action\"].tolist()).to(device)\n",
    "    rewards = torch.tensor(replay_buffer[\"reward\"].tolist()).to(device)\n",
    "    next_states = torch.tensor(replay_buffer[\"next_state\"].tolist()).float().to(device)\n",
    "    dones = torch.tensor(replay_buffer[\"done\"].tolist()).to(device)\n",
    "    predictions = q_value(states).gather(1, actions.unsqueeze(1)).squeeze()\n",
    "    td_predictions, _ = q_value(next_states).max(1)\n",
    "    targets = rewards + decay_rate * td_predictions * (1-dones)\n",
    "    td_error = targets - predictions\n",
    "    priority = td_error.abs() + e\n",
    "    distribution = priority**a/(priority**a).sum()\n",
    "    return distribution"
   ]
  },
  {
   "cell_type": "markdown",
   "metadata": {},
   "source": [
    "## Define Batch Loader"
   ]
  },
  {
   "cell_type": "code",
   "execution_count": 21,
   "metadata": {},
   "outputs": [],
   "source": [
    "def get_batch(replay_buffer, distribution, batch_size, device):\n",
    "    idxs = np.arange(len(replay_buffer))\n",
    "    batch_idxs = np.random.choice(idxs, p=distribution.cpu().detach().numpy(), size=batch_size)\n",
    "    states = torch.tensor(replay_buffer.loc[batch_idxs][\"state\"].tolist()).to(device)\n",
    "    actions = torch.tensor(replay_buffer.loc[batch_idxs][\"action\"].tolist()).to(device)\n",
    "    rewards = torch.tensor(replay_buffer.loc[batch_idxs][\"reward\"].tolist()).to(device)\n",
    "    next_states = torch.tensor(replay_buffer.loc[batch_idxs][\"next_state\"].tolist()).float().to(device)\n",
    "    dones = torch.tensor(replay_buffer.loc[batch_idxs][\"done\"].tolist()).to(device)\n",
    "    return states, actions, rewards, next_states, dones, batch_idxs"
   ]
  },
  {
   "cell_type": "markdown",
   "metadata": {},
   "source": [
    "## Learning Algorithm"
   ]
  },
  {
   "cell_type": "code",
   "execution_count": 22,
   "metadata": {},
   "outputs": [
    {
     "name": "stdout",
     "output_type": "stream",
     "text": [
      "Episode: 100/500, Average Score: 1.41, Epsilon: 0.132619555894753\n",
      "Episode: 200/500, Average Score: 4.05, Epsilon: 0.017587946605721515\n",
      "Episode: 300/500, Average Score: 10.44, Epsilon: 0.01\n",
      "Episode: 400/500, Average Score: 12.42, Epsilon: 0.01\n",
      "Episode: 500/500, Average Score: 14.41, Epsilon: 0.01\n"
     ]
    },
    {
     "data": {
      "image/png": "[encoded data removed]",
      "text/plain": [
       "<matplotlib.figure.Figure at 0x7fdf73f23550>"
      ]
     },
     "metadata": {
      "needs_background": "light"
     },
     "output_type": "display_data"
    }
   ],
   "source": [
    "scores = []\n",
    "steps = 0\n",
    "epsilon = epsilon_start\n",
    "b = b_start\n",
    "\n",
    "for i in range(episodes):\n",
    "    score = 0\n",
    "    env_info = env.reset(train_mode=True)[brain_name]\n",
    "    state = torch.tensor(env_info.vector_observations[0]).float().to(device)\n",
    "    while True:\n",
    "        action_values = q_policy(state.unsqueeze(0))\n",
    "        probs = policy(action_values, epsilon, device)\n",
    "        action = torch.multinomial(probs,1).squeeze()\n",
    "        env_info = env.step(action.item())[brain_name]\n",
    "        \n",
    "        reward = float(env_info.rewards[0])\n",
    "        score += reward\n",
    "        done = float(env_info.local_done[0])\n",
    "        next_state = env_info.vector_observations[0]\n",
    "        replay_buffer.loc[len(replay_buffer)] = [state.tolist(), action.item(), reward, next_state, done]\n",
    "        \n",
    "        state = torch.tensor(next_state).float().to(device)\n",
    "        \n",
    "        steps = (steps+1) % learn_every\n",
    "        if steps == 0 and len(replay_buffer)>=batch_size:\n",
    "            if prioritized_replay:\n",
    "                distribution = get_prioritized_distribution(replay_buffer, q_value, decay_rate, e, a, device)\n",
    "            else:\n",
    "                distribution = (torch.ones(len(replay_buffer))/len(replay_buffer)).to(device)\n",
    "                \n",
    "            for e in range(epochs):\n",
    "                optimizer.zero_grad()\n",
    "                states, actions, rewards, next_states, dones, idxs = get_batch(replay_buffer, distribution, batch_size, device)\n",
    "                predictions = q_value(states).gather(1, actions.unsqueeze(1))\n",
    "                with torch.no_grad():\n",
    "                    targets = rewards + decay_rate * q_policy(next_states).gather(1, q_value(next_states).max(1)[1].unsqueeze(1)).squeeze() * (1-dones)\n",
    "                \n",
    "                loss = criterion(predictions.squeeze(), targets)\n",
    "                loss.backward()\n",
    "                if prioritized_replay:\n",
    "                    for g in optimizer.param_groups:\n",
    "                         g['lr'] = lr*(1/len(replay_buffer)*1/distribution[idxs]).mean().item()**b\n",
    "                optimizer.step()\n",
    "                \n",
    "            for policy_param, value_param in zip(q_policy.parameters(), q_value.parameters()):\n",
    "                policy_param.data.copy_(tau*value_param.data + (1.0-tau)*policy_param.data)\n",
    "                \n",
    "        if done:\n",
    "            break\n",
    "            \n",
    "    epsilon = max(eps_end, epsilon*eps_decay)\n",
    "    b = min(b_delta+b, b_end)\n",
    "    scores.append(score)\n",
    "    \n",
    "    if (i+1)%print_every==0:\n",
    "        avg_score = np.array(scores[-print_every:]).mean()\n",
    "        print(\"Episode: {}/{}, Average Score: {}, Epsilon: {}\".format(i+1, episodes, avg_score, epsilon))\n",
    "        \n",
    "plt.plot(scores)\n",
    "plt.xlabel(\"Episode\")\n",
    "plt.ylabel(\"Score\")\n",
    "plt.title(\"Scores over Episodes\")\n",
    "plt.show()"
   ]
  },
  {
   "cell_type": "markdown",
   "metadata": {},
   "source": [
    "## Saving Model Weights"
   ]
  },
  {
   "cell_type": "code",
   "execution_count": 23,
   "metadata": {},
   "outputs": [],
   "source": [
    "torch.save(q_policy.state_dict(), \"checkpoint.pth\")"
   ]
  }
 ],
 "metadata": {
  "kernelspec": {
   "display_name": "Python 3",
   "language": "python",
   "name": "python3"
  },
  "language_info": {
   "codemirror_mode": {
    "name": "ipython",
    "version": 3
   },
   "file_extension": ".py",
   "mimetype": "text/x-python",
   "name": "python",
   "nbconvert_exporter": "python",
   "pygments_lexer": "ipython3",
   "version": "3.6.9"
  }
 },
 "nbformat": 4,
 "nbformat_minor": 2
}
